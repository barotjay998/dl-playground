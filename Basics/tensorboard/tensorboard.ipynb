{
 "cells": [
  {
   "cell_type": "markdown",
   "metadata": {},
   "source": [
    "# TensorBoard\n",
    "\n",
    "- Obtaining **Accuracy** and **Loss** plots for the model.\n",
    "- How to visualize the model architecture.\n",
    "- Visualize data augmentation changes.\n",
    "- Plot **Confusion Matrix** - to see what and where the model is getting confused (misclassifying).\n",
    "- Distribution of weights and biases.\n",
    "- **Hyperparameter search**, by using the HParams API.\n",
    "- **Projector** tab of TensorBoard - to visualize high dimensional data to 3D or 2D and see how the model is clustering the data.\n",
    "- **Tensorflow Profiler** - to profile the model and see how much time is spent on each operation.\n",
    "\n",
    "## How to load TensorBoard\n",
    "\n",
    "- Go to the directory where the logs are saved.\n",
    "- Run the command `tensorboard --logdir DIRECTORY_NAME` in the terminal.\n",
    "- `tensorboard --logdir logs`\n",
    "- This will start a TensorBoard server at `http://localhost:6006/`.\n",
    "\n",
    "\n",
    "## Different Tabs of TensorBoard\n",
    "\n",
    "- **Scalars** - Plots the accuracy and loss of the model.\n",
    "\n",
    "- **Graphs** - Visualize the model architecture.\n",
    "\n",
    "- **Distributions, Histograms** - Visualize the distribution of weights and biases.\n"
   ]
  },
  {
   "cell_type": "markdown",
   "metadata": {},
   "source": []
  }
 ],
 "metadata": {
  "language_info": {
   "name": "python"
  }
 },
 "nbformat": 4,
 "nbformat_minor": 2
}
